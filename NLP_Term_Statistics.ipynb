{
 "cells": [
  {
   "cell_type": "code",
   "execution_count": 1,
   "id": "90ce383e",
   "metadata": {},
   "outputs": [],
   "source": [
    "# import required packages\n",
    "import json\n",
    "import csv\n",
    "import spacy\n",
    "import numpy as np"
   ]
  },
  {
   "cell_type": "code",
   "execution_count": 2,
   "id": "5154a977",
   "metadata": {},
   "outputs": [
    {
     "name": "stdout",
     "output_type": "stream",
     "text": [
      "number of comments: 10865\n",
      "number of unique words: 16895\n",
      "total number of words in the corpus: 569150\n",
      "average number of words in comments: 52.38380119650253\n",
      "average number of words in comments without stop words: 25.849700874367233\n",
      "maximum number of words in comments: 1398\n",
      "maximum number of words in comments without stop words: 876\n",
      "minimum number of words in comments: 1\n",
      "minimum number of words in comments without stop words: 0\n",
      "median number of words in comments: 32.0\n",
      "median number of words in comments without stop words: 15.0\n",
      "number of unique authors: 2736\n",
      "number of comments replying to other comments: 6430\n",
      "number of sumbissions: 866\n"
     ]
    }
   ],
   "source": [
    "# load the Spacy language model\n",
    "nlp = spacy.load(\"en_core_web_lg\")\n",
    "\n",
    "# a default list of stop words set by the Spacy language model\n",
    "stopwords = nlp.Defaults.stop_words\n",
    "# print(stopwords)\n",
    "\n",
    "\n",
    "# variables to store term statistics\n",
    "num_of_comments = 0\n",
    "unique_word = set() # using the set-type variable since it does not allow duplicates > able to count the number of unique words\n",
    "num_of_token_per_comment = [] # using the list-type varailbe since we want to measure corpus-level statistics (e.g., avg, max, min, median, etc.)\n",
    "num_of_token_per_comment_without_stop_words = []\n",
    "total_number_of_tokens = 0 # in a corpus\n",
    "unique_author = set() # using the set-type variable since it does not allow duplicates > able to count the number of unique authors\n",
    "time_stamp_list = [] # able to measure the number of comments by day, week, etc.\n",
    "reply_count = 0\n",
    "unique_submission = set() # using the set-type variable since it does not allow duplicates > able to count the number of unique submissions\n",
    "\n",
    "# data processing\n",
    "with open(\"CovidVaccinated.json\", \"r\") as file: # I customized the PRAW code to store data as a json file\n",
    "    for line in file: # for each data point, do the following\n",
    "        line_data = json.loads(line)\n",
    "        text = line_data[\"comment_text\"]\n",
    "        doc = nlp(text)\n",
    "        num_of_comments += 1\n",
    "        # statistics regarding words\n",
    "        num_of_tokens = len(doc)\n",
    "        total_number_of_tokens += num_of_tokens\n",
    "        token_count_without_stop_words = 0\n",
    "        for token in doc:\n",
    "            if token.is_stop is True: # check whether the provided token is a stop word and decide whether to disregard it\n",
    "                pass\n",
    "            else:\n",
    "                unique_word.add(str(token).lower())\n",
    "                token_count_without_stop_words += 1\n",
    "        num_of_token_per_comment.append(num_of_tokens)\n",
    "        num_of_token_per_comment_without_stop_words.append(token_count_without_stop_words)\n",
    "        # statistics regarding authors\n",
    "        author_name = line_data[\"author_name\"]\n",
    "        unique_author.add(author_name.lower())\n",
    "        # statistics regarding time_stamp\n",
    "        time_stamp = line_data[\"timestamp\"]\n",
    "        time_stamp_list.append(time_stamp)\n",
    "        # statistics regarding replies\n",
    "        reply_to = line_data[\"reply_to\"]\n",
    "        if reply_to == \"-\":\n",
    "            pass\n",
    "        else:\n",
    "            reply_count += 1\n",
    "        # statistics regarding submissions\n",
    "        thread_id = line_data[\"thread_id\"]\n",
    "        unique_submission.add(thread_id)\n",
    "\n",
    "# statistics\n",
    "print(\"number of comments:\", num_of_comments)\n",
    "print(\"number of unique words:\", len(unique_word))\n",
    "print(\"total number of words in the corpus:\", total_number_of_tokens)\n",
    "print(\"average number of words in comments:\", np.mean(np.asarray(num_of_token_per_comment)))\n",
    "print(\"average number of words in comments without stop words:\", np.mean(np.asarray(num_of_token_per_comment_without_stop_words)))\n",
    "print(\"maximum number of words in comments:\", np.max(np.asarray(num_of_token_per_comment)))\n",
    "print(\"maximum number of words in comments without stop words:\", np.max(np.asarray(num_of_token_per_comment_without_stop_words)))\n",
    "print(\"minimum number of words in comments:\", np.min(np.asarray(num_of_token_per_comment)))\n",
    "print(\"minimum number of words in comments without stop words:\", np.min(np.asarray(num_of_token_per_comment_without_stop_words)))\n",
    "print(\"median number of words in comments:\", np.median(np.asarray(num_of_token_per_comment)))\n",
    "print(\"median number of words in comments without stop words:\", np.median(np.asarray(num_of_token_per_comment_without_stop_words)))\n",
    "print(\"number of unique authors:\", len(unique_author))\n",
    "print(\"number of comments replying to other comments:\", reply_count)\n",
    "print(\"number of sumbissions:\", len(unique_submission))"
   ]
  }
 ],
 "metadata": {
  "kernelspec": {
   "display_name": "Python 3 (ipykernel)",
   "language": "python",
   "name": "python3"
  },
  "language_info": {
   "codemirror_mode": {
    "name": "ipython",
    "version": 3
   },
   "file_extension": ".py",
   "mimetype": "text/x-python",
   "name": "python",
   "nbconvert_exporter": "python",
   "pygments_lexer": "ipython3",
   "version": "3.9.7"
  }
 },
 "nbformat": 4,
 "nbformat_minor": 5
}
